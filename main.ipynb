{
 "cells": [
  {
   "cell_type": "markdown",
   "metadata": {},
   "source": [
    "### Import the libraries"
   ]
  },
  {
   "cell_type": "code",
   "execution_count": null,
   "metadata": {},
   "outputs": [],
   "source": [
    "#*Import the libraries*\n",
    "from IPython.core.interactiveshell import InteractiveShell\n",
    "InteractiveShell.ast_node_interactivity = \"all\"\n",
    "import numpy as np\n",
    "import pandas as pd\n",
    "import math\n",
    "import json\n",
    "import time\n",
    "import matplotlib.pyplot as plt\n",
    "import seaborn as sns\n",
    "from sklearn.metrics.pairwise import cosine_similarity\n",
    "from sklearn.model_selection import train_test_split\n",
    "from sklearn.neighbors import NearestNeighbors\n",
    "import joblib\n",
    "import scipy.sparse\n",
    "from scipy.sparse import csr_matrix\n",
    "from scipy.sparse.linalg import svds\n",
    "import warnings; warnings.simplefilter('ignore')\n",
    "import plotly.figure_factory as ff\n",
    "import plotly.graph_objects as go\n",
    "\n"
   ]
  },
  {
   "cell_type": "markdown",
   "metadata": {},
   "source": [
    "# ELT\n",
    "### Import the data"
   ]
  },
  {
   "cell_type": "markdown",
   "metadata": {},
   "source": [
    "'USER_ID'\n",
    "'PRODUCT_ID'\n",
    "'RATINGS'\n",
    "'TIMESTAMP'"
   ]
  },
  {
   "cell_type": "code",
   "execution_count": null,
   "metadata": {},
   "outputs": [],
   "source": [
    "#define column name of the csv\n",
    "cols_name=['USER_ID', 'PRODUCT_ID', 'RATINGS','TIMESTAMP']\n",
    "# import the csv\n",
    "amz_kindle_store=pd.read_csv('Kindle_Store.csv',names=cols_name)\n",
    "# run the follow code to see the df\n",
    "amz_kindle_store.head()"
   ]
  },
  {
   "cell_type": "code",
   "execution_count": null,
   "metadata": {},
   "outputs": [],
   "source": [
    "amz_kindle_store.info()\n"
   ]
  },
  {
   "cell_type": "markdown",
   "metadata": {},
   "source": [
    "Check the number of rows and columns"
   ]
  },
  {
   "cell_type": "code",
   "execution_count": null,
   "metadata": {},
   "outputs": [],
   "source": [
    "rows,columns=amz_kindle_store.shape\n",
    "print('The number of rows is: ',rows)\n",
    "print('Number of columns is: ',columns)"
   ]
  },
  {
   "cell_type": "markdown",
   "metadata": {},
   "source": [
    "# EDA"
   ]
  },
  {
   "cell_type": "markdown",
   "metadata": {},
   "source": [
    "### Count of NaNs"
   ]
  },
  {
   "cell_type": "markdown",
   "metadata": {},
   "source": [
    "there isn't null values"
   ]
  },
  {
   "cell_type": "code",
   "execution_count": null,
   "metadata": {},
   "outputs": [],
   "source": [
    "counts = amz_kindle_store.isna().sum()\n",
    "print(counts.sort_values())\n",
    "\n",
    "\n",
    "percentages = round(amz_kindle_store.isna().mean() * 100, 1)\n",
    "print(percentages.sort_values())"
   ]
  },
  {
   "cell_type": "markdown",
   "metadata": {},
   "source": [
    "### Some summary indicators"
   ]
  },
  {
   "cell_type": "code",
   "execution_count": null,
   "metadata": {},
   "outputs": [],
   "source": [
    "#Summary statistics of rating variable\n",
    "round(amz_kindle_store['RATINGS'].describe().transpose(),2)"
   ]
  },
  {
   "cell_type": "code",
   "execution_count": null,
   "metadata": {},
   "outputs": [],
   "source": [
    "fig = go.Figure(data=[go.Histogram(x=amz_kindle_store['RATINGS'],\n",
    "                                   texttemplate=\"%{x}\", \n",
    "                                   textfont_size=12)])\n",
    "fig.show()"
   ]
  },
  {
   "cell_type": "markdown",
   "metadata": {},
   "source": [
    "#### How many user and product?"
   ]
  },
  {
   "cell_type": "code",
   "execution_count": null,
   "metadata": {},
   "outputs": [],
   "source": [
    "# Number of unique user id  in the data\n",
    "print('Number of distinct users is = ', amz_kindle_store['USER_ID'].nunique())\n",
    "# Number of unique product id  in the data\n",
    "print('Number of distinct product is = ', amz_kindle_store['PRODUCT_ID'].nunique())"
   ]
  },
  {
   "cell_type": "code",
   "execution_count": null,
   "metadata": {},
   "outputs": [],
   "source": [
    "#Check the top 5 users/product based on ratings\n",
    "userid_most_rated=amz_kindle_store.groupby('USER_ID').size().sort_values(ascending=False)[:5]\n",
    "productid_most_rated=amz_kindle_store.groupby('PRODUCT_ID').size().sort_values(ascending=False)[:5]\n",
    "print('Top 5 users based on ratings: \\n',userid_most_rated)\n",
    "print('Top 5 product based on ratings: \\n',productid_most_rated)"
   ]
  },
  {
   "cell_type": "code",
   "execution_count": null,
   "metadata": {},
   "outputs": [],
   "source": [
    "count_user_amz_kindle_store.columns\n",
    "\n"
   ]
  },
  {
   "cell_type": "markdown",
   "metadata": {},
   "source": [
    "# Model Preparation\n",
    "\n",
    "Split the data randomnly into train and test datasets into 70:30 ratio\n",
    "\n",
    "\n"
   ]
  },
  {
   "cell_type": "code",
   "execution_count": null,
   "metadata": {},
   "outputs": [],
   "source": [
    "amz_kindle_train_data, amz_kindle_test_data = train_test_split(amz_kindle_store, test_size = 0.3, random_state=0)\n"
   ]
  },
  {
   "cell_type": "code",
   "execution_count": null,
   "metadata": {},
   "outputs": [],
   "source": [
    "print('Shape of training data: ',amz_kindle_train_data.shape)\n",
    "print('Shape of testing data: ',amz_kindle_store.shape)"
   ]
  },
  {
   "cell_type": "markdown",
   "metadata": {},
   "source": [
    "# Model 1: Building Popularity Recommder model\n",
    "\n",
    "The Popularity-based recommender system is a non-personalised recommender system and these are based on frequecy counts, which may be not suitable to the user.We can see the differance above for the user id 4, 6 & 8, The Popularity based model has recommended the same set of 5 products to both but Collaborative Filtering based model has recommended entire different list based on the user past purchase history.\n",
    "hese systems check about the product or movie which are in trend or are most popular among the users and directly recommend those."
   ]
  },
  {
   "cell_type": "markdown",
   "metadata": {},
   "source": []
  }
 ],
 "metadata": {
  "kernelspec": {
   "display_name": "Python 3.9.7 ('base')",
   "language": "python",
   "name": "python3"
  },
  "language_info": {
   "codemirror_mode": {
    "name": "ipython",
    "version": 3
   },
   "file_extension": ".py",
   "mimetype": "text/x-python",
   "name": "python",
   "nbconvert_exporter": "python",
   "pygments_lexer": "ipython3",
   "version": "3.9.7"
  },
  "orig_nbformat": 4,
  "vscode": {
   "interpreter": {
    "hash": "740bad98169f4e3f708be62b7eed9826c889ea22543a46a30f40bb92f2f0d28b"
   }
  }
 },
 "nbformat": 4,
 "nbformat_minor": 2
}
