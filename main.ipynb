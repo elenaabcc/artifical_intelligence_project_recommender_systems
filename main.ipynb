{
 "cells": [
  {
   "cell_type": "markdown",
   "metadata": {},
   "source": [
    "### <font color='grey'>**Import the libraries**</font>  \n"
   ]
  },
  {
   "cell_type": "code",
   "execution_count": 1,
   "metadata": {},
   "outputs": [],
   "source": [
    "from IPython.core.interactiveshell import InteractiveShell\n",
    "InteractiveShell.ast_node_interactivity = \"all\"\n",
    "\n",
    "# Basically, the base :)\n",
    "import numpy as np\n",
    "import pandas as pd\n",
    "import math\n",
    "import json\n",
    "import time\n",
    "\n",
    "\n",
    "# some from one of the most useful library for machine learning \n",
    "from sklearn.metrics.pairwise import cosine_similarity\n",
    "from sklearn.model_selection import train_test_split\n",
    "from sklearn.neighbors import NearestNeighbors\n",
    "\n",
    "import joblib\n",
    "import warnings; warnings.simplefilter('ignore')\n",
    "\n",
    "# Scipy uses NumPy underneath: functions for optimization, stats and signal processing\n",
    "import scipy.sparse\n",
    "from scipy.sparse import csr_matrix\n",
    "from scipy.sparse.linalg import svds\n",
    "\n",
    "\n",
    "# Data viz libraries\n",
    "import matplotlib.pyplot as plt\n",
    "import seaborn as sns\n",
    "import plotly.figure_factory as ff\n",
    "import plotly.graph_objects as go\n",
    "\n"
   ]
  },
  {
   "cell_type": "markdown",
   "metadata": {},
   "source": [
    "#  <font color='orange'>**Extract, Trasformation and Load**</font>    \n",
    "  \n",
    "### <font color='grey'>**Import the data**</font>  "
   ]
  },
  {
   "cell_type": "code",
   "execution_count": null,
   "metadata": {},
   "outputs": [],
   "source": [
    "#define column name of the csv\n",
    "cols_name=['USER_ID', 'PRODUCT_ID', 'RATINGS','TIMESTAMP']\n",
    "# import the csv\n",
    "amz_kindle_store=pd.read_csv('Kindle_Store.csv',names=cols_name)\n",
    "# run the follow code to see the df\n",
    "amz_kindle_store.head()"
   ]
  },
  {
   "cell_type": "code",
   "execution_count": null,
   "metadata": {},
   "outputs": [],
   "source": [
    "amz_kindle_store.info()\n"
   ]
  },
  {
   "cell_type": "markdown",
   "metadata": {},
   "source": [
    "#### <font color='red'>Check the number of rows and columns</font>  \n"
   ]
  },
  {
   "cell_type": "code",
   "execution_count": null,
   "metadata": {},
   "outputs": [],
   "source": [
    "rows,columns=amz_kindle_store.shape\n",
    "print('The number of rows is: ',rows)\n",
    "print('Number of columns is: ',columns)"
   ]
  },
  {
   "cell_type": "markdown",
   "metadata": {},
   "source": [
    "#  <font color='orange'>**Exploration Data Analysis**</font>    "
   ]
  },
  {
   "cell_type": "markdown",
   "metadata": {},
   "source": [
    "#### <font color='red'>Count of NaNs</font>  \n"
   ]
  },
  {
   "cell_type": "markdown",
   "metadata": {},
   "source": [
    "there isn't null values"
   ]
  },
  {
   "cell_type": "code",
   "execution_count": null,
   "metadata": {},
   "outputs": [],
   "source": [
    "counts = amz_kindle_store.isna().sum()\n",
    "print(counts.sort_values())\n",
    "\n",
    "\n",
    "percentages = round(amz_kindle_store.isna().mean() * 100, 1)\n",
    "print(percentages.sort_values())"
   ]
  },
  {
   "cell_type": "markdown",
   "metadata": {},
   "source": [
    "#### <font color='red'>Some summary indicator</font>  \n"
   ]
  },
  {
   "cell_type": "code",
   "execution_count": null,
   "metadata": {},
   "outputs": [],
   "source": [
    "#Summary statistics of rating variable\n",
    "round(amz_kindle_store['RATINGS'].describe().transpose(),2)"
   ]
  },
  {
   "cell_type": "code",
   "execution_count": null,
   "metadata": {},
   "outputs": [],
   "source": [
    "fig = go.Figure(data=[go.Histogram(x=amz_kindle_store['RATINGS'],\n",
    "                                   texttemplate=\"%{x}\", \n",
    "                                   textfont_size=12)])\n",
    "fig.show()"
   ]
  },
  {
   "cell_type": "markdown",
   "metadata": {},
   "source": [
    "#### <font color='red'>How many Users and Product?</font>  \n"
   ]
  },
  {
   "cell_type": "code",
   "execution_count": null,
   "metadata": {},
   "outputs": [],
   "source": [
    "# Number of unique user id  in the data\n",
    "print('Number of distinct users is = ', amz_kindle_store['USER_ID'].nunique())\n",
    "# Number of unique product id  in the data\n",
    "print('Number of distinct product is = ', amz_kindle_store['PRODUCT_ID'].nunique())"
   ]
  },
  {
   "cell_type": "code",
   "execution_count": null,
   "metadata": {},
   "outputs": [],
   "source": [
    "#Check the top 5 users/product based on ratings\n",
    "userid_most_rated=amz_kindle_store.groupby('USER_ID').size().sort_values(ascending=False)[:5]\n",
    "productid_most_rated=amz_kindle_store.groupby('PRODUCT_ID').size().sort_values(ascending=False)[:5]\n",
    "print('Top 5 users based on ratings: \\n',userid_most_rated)\n",
    "print('Top 5 product based on ratings: \\n',productid_most_rated)"
   ]
  },
  {
   "cell_type": "markdown",
   "metadata": {},
   "source": [
    "## <font color='orange'>**Model Preparation**</font>   \n",
    "\n",
    "Split the data randomnly into train and test datasets into 70:30 ratio\n",
    "\n",
    "\n"
   ]
  },
  {
   "cell_type": "code",
   "execution_count": null,
   "metadata": {},
   "outputs": [],
   "source": [
    "amz_kindle_train_data, amz_kindle_test_data = train_test_split(amz_kindle_store, test_size = 0.3, random_state=0)\n"
   ]
  },
  {
   "cell_type": "code",
   "execution_count": null,
   "metadata": {},
   "outputs": [],
   "source": [
    "print('Shape of training data: ',amz_kindle_train_data.shape)\n",
    "print('Shape of testing data: ',amz_kindle_store.shape)"
   ]
  },
  {
   "cell_type": "markdown",
   "metadata": {},
   "source": [
    "# **Model 1**:*  <font color='orange'>Dev Popularity Recommder model</font>  \n",
    "\n",
    "\n",
    "It is a type of recommendation system which works on the principle of popularity and or anything which is in trend. These systems check about the product or movie which are in trend or are most popular among the users and directly recommend those."
   ]
  },
  {
   "cell_type": "code",
   "execution_count": null,
   "metadata": {},
   "outputs": [],
   "source": [
    "\n",
    "#* Count of USER_ID for each distinct product as recommendation score \n",
    "amz_kindle_train_data_grouped = amz_kindle_train_data.groupby('PRODUCT_ID').agg({'USER_ID': 'count'}).reset_index()\n",
    "amz_kindle_train_data_grouped.rename(columns = {'USER_ID': 'SCORE'},inplace=True)\n",
    "#* Sort the kindle product Id on recommendation score (which is the count) \n",
    "amz_kindle_train_data_grouped = amz_kindle_train_data_grouped.sort_values(['SCORE', 'PRODUCT_ID'], ascending = [0,1]) \n",
    "#* let's generate a rank besed on score: who has the higher score will on the first place. Smaller score will be the last\n",
    "amz_kindle_train_data_grouped['RANK'] = amz_kindle_train_data_grouped['SCORE'].rank(ascending=0, method='first') \n",
    "amz_kindle_train_data_grouped = amz_kindle_train_data_grouped.head(5)\n",
    "\n"
   ]
  },
  {
   "cell_type": "code",
   "execution_count": null,
   "metadata": {},
   "outputs": [],
   "source": [
    "\n",
    "#* Use popularity based recommender model to make predictions\n",
    "def populariry_recommender_model(USER_ID):     \n",
    "    user_recommendations = amz_kindle_train_data_grouped\n",
    "          \n",
    "    #Add USER_ID column for which the recommendations are being generated \n",
    "    user_recommendations['USER_ID'] = USER_ID \n",
    "      \n",
    "    #Bring USER_ID column to the front \n",
    "    user_recommendations_columns = user_recommendations.columns.tolist() \n",
    "    user_recommendations_columns = user_recommendations_columns[-1:] + user_recommendations_columns[:-1] \n",
    "    user_recommendations = user_recommendations[user_recommendations_columns] \n",
    "          \n",
    "    return user_recommendations "
   ]
  },
  {
   "cell_type": "code",
   "execution_count": null,
   "metadata": {},
   "outputs": [],
   "source": [
    "# let's find the find the top5 recommended Kindle for user 11 and 17.\n",
    "find_recommendation = [11,17]   \n",
    "for user_id in find_recommendation:\n",
    "    print(\"The list of recomended kindle for the user: %d\\n\" %(user_id))\n",
    "    print(populariry_recommender_model(user_id)) \n",
    "    print(populariry_recommender_model(user_id))    \n",
    "    print(\"\\n\") "
   ]
  },
  {
   "cell_type": "markdown",
   "metadata": {},
   "source": [
    "# **Model 2**:*  <font color='orange'>Dev Collaborative Filtering recommender model.</font>  \n"
   ]
  },
  {
   "cell_type": "code",
   "execution_count": null,
   "metadata": {},
   "outputs": [],
   "source": []
  }
 ],
 "metadata": {
  "kernelspec": {
   "display_name": "Python 3.9.7 ('base')",
   "language": "python",
   "name": "python3"
  },
  "language_info": {
   "codemirror_mode": {
    "name": "ipython",
    "version": 3
   },
   "file_extension": ".py",
   "mimetype": "text/x-python",
   "name": "python",
   "nbconvert_exporter": "python",
   "pygments_lexer": "ipython3",
   "version": "3.9.7"
  },
  "orig_nbformat": 4,
  "vscode": {
   "interpreter": {
    "hash": "740bad98169f4e3f708be62b7eed9826c889ea22543a46a30f40bb92f2f0d28b"
   }
  }
 },
 "nbformat": 4,
 "nbformat_minor": 2
}
